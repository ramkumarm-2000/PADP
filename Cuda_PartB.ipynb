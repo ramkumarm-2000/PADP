{
  "nbformat": 4,
  "nbformat_minor": 0,
  "metadata": {
    "colab": {
      "name": "Cuda_PartB.ipynb",
      "provenance": [],
      "collapsed_sections": [],
      "include_colab_link": true
    },
    "kernelspec": {
      "name": "python3",
      "display_name": "Python 3"
    },
    "language_info": {
      "name": "python"
    },
    "accelerator": "GPU"
  },
  "cells": [
    {
      "cell_type": "markdown",
      "metadata": {
        "id": "view-in-github",
        "colab_type": "text"
      },
      "source": [
        "<a href=\"https://colab.research.google.com/github/ramkumarm-2000/PADP/blob/main/Cuda_PartB.ipynb\" target=\"_parent\"><img src=\"https://colab.research.google.com/assets/colab-badge.svg\" alt=\"Open In Colab\"/></a>"
      ]
    },
    {
      "cell_type": "code",
      "execution_count": null,
      "metadata": {
        "colab": {
          "base_uri": "https://localhost:8080/"
        },
        "id": "LEiY5zGgSOjF",
        "outputId": "e0adf992-ed1f-4f7b-aee9-3292ebd74ebd"
      },
      "outputs": [
        {
          "output_type": "stream",
          "name": "stdout",
          "text": [
            "Cloning into 'Image-Convolution-Using-CUDA-C'...\n",
            "remote: Enumerating objects: 209, done.\u001b[K\n",
            "remote: Total 209 (delta 0), reused 0 (delta 0), pack-reused 209\u001b[K\n",
            "Receiving objects: 100% (209/209), 8.56 MiB | 11.55 MiB/s, done.\n",
            "Resolving deltas: 100% (91/91), done.\n"
          ]
        }
      ],
      "source": [
        "!git clone https://github.com/KaleabTessera/Image-Convolution-Using-CUDA-C.git"
      ]
    },
    {
      "cell_type": "code",
      "source": [
        "!git clone https://github.com/ramkumarm-2000/PADP.git"
      ],
      "metadata": {
        "id": "CpwOOnCwhYje"
      },
      "execution_count": null,
      "outputs": []
    },
    {
      "cell_type": "code",
      "source": [
        "!ls"
      ],
      "metadata": {
        "colab": {
          "base_uri": "https://localhost:8080/"
        },
        "id": "-294dmVMSfE_",
        "outputId": "64870066-6f48-42a0-b739-e9bd46556b5c"
      },
      "execution_count": null,
      "outputs": [
        {
          "output_type": "stream",
          "name": "stdout",
          "text": [
            "Image-Convolution-Using-CUDA-C\tsample_data\n"
          ]
        }
      ]
    },
    {
      "cell_type": "code",
      "source": [
        "%cd Image-Convolution-Using-CUDA-C/code"
      ],
      "metadata": {
        "colab": {
          "base_uri": "https://localhost:8080/"
        },
        "id": "ferikqhvSjuG",
        "outputId": "a38c27cf-3ba0-4954-b93d-eebc89e806cf"
      },
      "execution_count": null,
      "outputs": [
        {
          "output_type": "stream",
          "name": "stdout",
          "text": [
            "/content/Image-Convolution-Using-CUDA-C/code\n"
          ]
        }
      ]
    },
    {
      "cell_type": "code",
      "source": [
        "!make"
      ],
      "metadata": {
        "colab": {
          "base_uri": "https://localhost:8080/"
        },
        "id": "UftYokqlS0Yz",
        "outputId": "05d90636-d24f-4d44-9aeb-23be3261b032"
      },
      "execution_count": null,
      "outputs": [
        {
          "output_type": "stream",
          "name": "stdout",
          "text": [
            "nvcc -o cnn cnn.cu -I ./inc\n",
            "In file included from \u001b[01m\u001b[Kcnn.cu:9:0\u001b[m\u001b[K:\n",
            "\u001b[01m\u001b[KimageConvolutionParallelConstantMemory.h:4:0:\u001b[m\u001b[K \u001b[01;35m\u001b[Kwarning: \u001b[m\u001b[K\"BLOCK_WIDTH\" redefined\n",
            " #define BLOCK_WIDTH 3\n",
            " \n",
            "In file included from \u001b[01m\u001b[Kcnn.cu:8:0\u001b[m\u001b[K:\n",
            "\u001b[01m\u001b[KimageConvolutionParallelSharedMemory.h:4:0:\u001b[m\u001b[K \u001b[01;36m\u001b[Knote: \u001b[m\u001b[Kthis is the location of the previous definition\n",
            " #define BLOCK_WIDTH 13\n",
            " \n",
            "imageConvolutionParallel.h(130): warning: variable \"imageIndex\" was declared but never referenced\n",
            "\n",
            "imageConvolutionParallel.h(104): warning: variable \"comp\" was declared but never referenced\n",
            "\n",
            "imageConvolutionParallelSharedMemory.h(112): warning: variable \"comp\" was declared but never referenced\n",
            "\n",
            "imageConvolutionParallelSharedMemory.h(122): warning: variable \"imageIndex\" was declared but never referenced\n",
            "\n",
            "imageConvolutionParallelConstantMemory.h(137): warning: variable \"imageIndex\" was declared but never referenced\n",
            "\n",
            "imageConvolutionTextureMemory.h(163): warning: variable \"imageIndex\" was declared but never referenced\n",
            "\n",
            "In file included from \u001b[01m\u001b[Kcnn.cu:9:0\u001b[m\u001b[K:\n",
            "\u001b[01m\u001b[KimageConvolutionParallelConstantMemory.h:4:0:\u001b[m\u001b[K \u001b[01;35m\u001b[Kwarning: \u001b[m\u001b[K\"BLOCK_WIDTH\" redefined\n",
            " #define BLOCK_WIDTH 3\n",
            " \n",
            "In file included from \u001b[01m\u001b[Kcnn.cu:8:0\u001b[m\u001b[K:\n",
            "\u001b[01m\u001b[KimageConvolutionParallelSharedMemory.h:4:0:\u001b[m\u001b[K \u001b[01;36m\u001b[Knote: \u001b[m\u001b[Kthis is the location of the previous definition\n",
            " #define BLOCK_WIDTH 13\n",
            " \n",
            "\u001b[01m\u001b[KimageConvolutionTextureMemory.h:\u001b[m\u001b[K In function ‘\u001b[01m\u001b[Kvoid applyKernelToImageParallelTextureMomory(float*, int, int, float*, int, char*)\u001b[m\u001b[K’:\n",
            "\u001b[01m\u001b[KimageConvolutionTextureMemory.h:105:53:\u001b[m\u001b[K \u001b[01;35m\u001b[Kwarning: \u001b[m\u001b[K‘\u001b[01m\u001b[KcudaError_t cudaBindTexture(size_t*, const texture<T, dim, readMode>&, const void*, size_t) [with T = float; int dim = 1; cudaTextureReadMode readMode = (cudaTextureReadMode)0; cudaError_t = cudaError; size_t = long unsigned int]\u001b[m\u001b[K’ is deprecated [\u001b[01;35m\u001b[K-Wdeprecated-declarations\u001b[m\u001b[K]\n",
            "     cudaBindTexture(0, texRef1d, d_image, sizeImageA\u001b[01;35m\u001b[Kr\u001b[m\u001b[Kray);\n",
            "                                                     \u001b[01;35m\u001b[K^\u001b[m\u001b[K\n",
            "\u001b[01m\u001b[K/usr/local/cuda/bin/../targets/x86_64-linux/include/cuda_runtime.h:1339:53:\u001b[m\u001b[K \u001b[01;36m\u001b[Knote: \u001b[m\u001b[Kdeclared here\n",
            " static __CUDA_DEPRECATED __inline__ __host__ cudaErr\u001b[01;36m\u001b[Kor_t cudaBindTe\u001b[m\u001b[Kxture(\n",
            "                                                     \u001b[01;36m\u001b[K^~~~~~~~~~~~~~~\u001b[m\u001b[K\n",
            "/usr/local/cuda/bin/../targets/x86_64-linux/include/cuda_runtime.h: In instantiation of ‘\u001b[01m\u001b[KcudaError_t cudaBindTexture(size_t*, const texture<T, dim, readMode>&, const void*, size_t) [with T = float; int dim = 1; cudaTextureReadMode readMode = (cudaTextureReadMode)0; cudaError_t = cudaError; size_t = long unsigned int]\u001b[m\u001b[K’:\n",
            "\u001b[01m\u001b[KimageConvolutionTextureMemory.h:105:53:\u001b[m\u001b[K   required from here\n",
            "\u001b[01m\u001b[K/usr/local/cuda/bin/../targets/x86_64-linux/include/cuda_runtime.h:1346:23:\u001b[m\u001b[K \u001b[01;35m\u001b[Kwarning: \u001b[m\u001b[K‘\u001b[01m\u001b[KcudaError_t cudaBindTexture(size_t*, const texture<T, dim, readMode>&, const void*, const cudaChannelFormatDesc&, size_t) [with T = float; int dim = 1; cudaTextureReadMode readMode = (cudaTextureReadMode)0; cudaError_t = cudaError; size_t = long unsigned int]\u001b[m\u001b[K’ is deprecated [\u001b[01;35m\u001b[K-Wdeprecated-declarations\u001b[m\u001b[K]\n",
            "   retur\u001b[01;35m\u001b[Kn cudaBindTexture(offset, tex, devPtr, tex.channelDesc, size)\u001b[m\u001b[K;\n",
            "        \u001b[01;35m\u001b[K~~~~~~~~~~~~~~~^~~~~~~~~~~~~~~~~~~~~~~~~~~~~~~~~~~~~~~~~~~~~~\u001b[m\u001b[K\n",
            "\u001b[01m\u001b[K/usr/local/cuda/bin/../targets/x86_64-linux/include/cuda_runtime.h:1293:53:\u001b[m\u001b[K \u001b[01;36m\u001b[Knote: \u001b[m\u001b[Kdeclared here\n",
            " static __CUDA_DEPRECATED __inline__ __host__ cudaErr\u001b[01;36m\u001b[Kor_t cudaBindTe\u001b[m\u001b[Kxture(\n",
            "                                                     \u001b[01;36m\u001b[K^~~~~~~~~~~~~~~\u001b[m\u001b[K\n",
            "/usr/local/cuda/bin/../targets/x86_64-linux/include/cuda_runtime.h: In instantiation of ‘\u001b[01m\u001b[KcudaError_t cudaBindTexture(size_t*, const texture<T, dim, readMode>&, const void*, const cudaChannelFormatDesc&, size_t) [with T = float; int dim = 1; cudaTextureReadMode readMode = (cudaTextureReadMode)0; cudaError_t = cudaError; size_t = long unsigned int]\u001b[m\u001b[K’:\n",
            "\u001b[01m\u001b[K/usr/local/cuda/bin/../targets/x86_64-linux/include/cuda_runtime.h:1346:23:\u001b[m\u001b[K   required from ‘\u001b[01m\u001b[KcudaError_t cudaBindTexture(size_t*, const texture<T, dim, readMode>&, const void*, size_t) [with T = float; int dim = 1; cudaTextureReadMode readMode = (cudaTextureReadMode)0; cudaError_t = cudaError; size_t = long unsigned int]\u001b[m\u001b[K’\n",
            "\u001b[01m\u001b[KimageConvolutionTextureMemory.h:105:53:\u001b[m\u001b[K   required from here\n",
            "\u001b[01m\u001b[K/usr/local/cuda/bin/../targets/x86_64-linux/include/cuda_runtime.h:1301:25:\u001b[m\u001b[K \u001b[01;35m\u001b[Kwarning: \u001b[m\u001b[K‘\u001b[01m\u001b[KcudaError_t cudaBindTexture(size_t*, const textureReference*, const void*, const cudaChannelFormatDesc*, size_t)\u001b[m\u001b[K’ is deprecated [\u001b[01;35m\u001b[K-Wdeprecated-declarations\u001b[m\u001b[K]\n",
            "   retur\u001b[01;35m\u001b[Kn ::cudaBindTexture(offset, &tex, devPtr, &desc, siz\u001b[m\u001b[Ke);\n",
            "        \u001b[01;35m\u001b[K~~~~~~~~~~~~~~~~~^~~~~~~~~~~~~~~~~~~~~~~~~~~~~~~~~~~\u001b[m\u001b[K\n",
            "\u001b[01m\u001b[K/usr/local/cuda/bin/../targets/x86_64-linux/include/cuda_runtime_api.h:7897:46:\u001b[m\u001b[K \u001b[01;36m\u001b[Knote: \u001b[m\u001b[Kdeclared here\n",
            " extern __CUDA_DEPRECATED __host__ cudaError_t\u001b[01;36m\u001b[K CUDARTAPI cuda\u001b[m\u001b[KBindTexture(size_t *offset, const struct textureReference *texref, const void *devPtr, const struct cudaChannelFormatDesc *desc, size_t size __dv(UINT_MAX));\n",
            "                                              \u001b[01;36m\u001b[K^~~~~~~~~~~~~~~\u001b[m\u001b[K\n"
          ]
        }
      ]
    },
    {
      "cell_type": "code",
      "source": [
        "!./cnn"
      ],
      "metadata": {
        "colab": {
          "base_uri": "https://localhost:8080/"
        },
        "id": "zSxVWC8qS_ZI",
        "outputId": "abc78df9-43aa-4f64-b668-5fb91f097163"
      },
      "execution_count": null,
      "outputs": [
        {
          "output_type": "stream",
          "name": "stdout",
          "text": [
            "Image convolution project \n",
            "Please select an option \n",
            "1 - Serial Implementation \n",
            "2 - Naive parallel implementation \n",
            "3 - Shared memory implementation \n",
            "4 - Constant memory implementation \n",
            "5 - Texture memory implementation \n",
            " 4\n",
            "Loaded 'room.pgm', 1168 x 897 pixels\n",
            "Time Constant Implementation: 37.323681 \n",
            "Time Constant Implementation: 36.961792 \n",
            "Time Constant Implementation: 37.921471 \n",
            "Time Constant Implementation: 37.031071 \n",
            "Time Constant Implementation: 43.006176 \n",
            "Time Constant Implementation: 36.387009 \n",
            "Time Constant Implementation: 47.802208 \n",
            "Time Constant Implementation: 36.891232 \n",
            "Time Constant Implementation: 37.077633 \n",
            "Time Constant Implementation: 37.925087 \n"
          ]
        }
      ]
    },
    {
      "cell_type": "code",
      "source": [
        "!nvcc -Iinc cnn.cu"
      ],
      "metadata": {
        "colab": {
          "base_uri": "https://localhost:8080/"
        },
        "id": "4bj1bt6UUARQ",
        "outputId": "4238c064-4e08-45b2-8362-04734fba1725"
      },
      "execution_count": null,
      "outputs": [
        {
          "output_type": "stream",
          "name": "stdout",
          "text": [
            "In file included from \u001b[01m\u001b[Kcnn.cu:9:0\u001b[m\u001b[K:\n",
            "\u001b[01m\u001b[KimageConvolutionParallelConstantMemory.h:4:0:\u001b[m\u001b[K \u001b[01;35m\u001b[Kwarning: \u001b[m\u001b[K\"BLOCK_WIDTH\" redefined\n",
            " #define BLOCK_WIDTH 3\n",
            " \n",
            "In file included from \u001b[01m\u001b[Kcnn.cu:8:0\u001b[m\u001b[K:\n",
            "\u001b[01m\u001b[KimageConvolutionParallelSharedMemory.h:4:0:\u001b[m\u001b[K \u001b[01;36m\u001b[Knote: \u001b[m\u001b[Kthis is the location of the previous definition\n",
            " #define BLOCK_WIDTH 13\n",
            " \n",
            "imageConvolutionParallel.h(130): warning: variable \"imageIndex\" was declared but never referenced\n",
            "\n",
            "imageConvolutionParallel.h(104): warning: variable \"comp\" was declared but never referenced\n",
            "\n",
            "imageConvolutionParallelSharedMemory.h(112): warning: variable \"comp\" was declared but never referenced\n",
            "\n",
            "imageConvolutionParallelSharedMemory.h(122): warning: variable \"imageIndex\" was declared but never referenced\n",
            "\n",
            "imageConvolutionParallelConstantMemory.h(137): warning: variable \"imageIndex\" was declared but never referenced\n",
            "\n",
            "imageConvolutionTextureMemory.h(163): warning: variable \"imageIndex\" was declared but never referenced\n",
            "\n",
            "In file included from \u001b[01m\u001b[Kcnn.cu:9:0\u001b[m\u001b[K:\n",
            "\u001b[01m\u001b[KimageConvolutionParallelConstantMemory.h:4:0:\u001b[m\u001b[K \u001b[01;35m\u001b[Kwarning: \u001b[m\u001b[K\"BLOCK_WIDTH\" redefined\n",
            " #define BLOCK_WIDTH 3\n",
            " \n",
            "In file included from \u001b[01m\u001b[Kcnn.cu:8:0\u001b[m\u001b[K:\n",
            "\u001b[01m\u001b[KimageConvolutionParallelSharedMemory.h:4:0:\u001b[m\u001b[K \u001b[01;36m\u001b[Knote: \u001b[m\u001b[Kthis is the location of the previous definition\n",
            " #define BLOCK_WIDTH 13\n",
            " \n",
            "\u001b[01m\u001b[KimageConvolutionTextureMemory.h:\u001b[m\u001b[K In function ‘\u001b[01m\u001b[Kvoid applyKernelToImageParallelTextureMomory(float*, int, int, float*, int, char*)\u001b[m\u001b[K’:\n",
            "\u001b[01m\u001b[KimageConvolutionTextureMemory.h:105:53:\u001b[m\u001b[K \u001b[01;35m\u001b[Kwarning: \u001b[m\u001b[K‘\u001b[01m\u001b[KcudaError_t cudaBindTexture(size_t*, const texture<T, dim, readMode>&, const void*, size_t) [with T = float; int dim = 1; cudaTextureReadMode readMode = (cudaTextureReadMode)0; cudaError_t = cudaError; size_t = long unsigned int]\u001b[m\u001b[K’ is deprecated [\u001b[01;35m\u001b[K-Wdeprecated-declarations\u001b[m\u001b[K]\n",
            "     cudaBindTexture(0, texRef1d, d_image, sizeImageA\u001b[01;35m\u001b[Kr\u001b[m\u001b[Kray);\n",
            "                                                     \u001b[01;35m\u001b[K^\u001b[m\u001b[K\n",
            "\u001b[01m\u001b[K/usr/local/cuda/bin/../targets/x86_64-linux/include/cuda_runtime.h:1339:53:\u001b[m\u001b[K \u001b[01;36m\u001b[Knote: \u001b[m\u001b[Kdeclared here\n",
            " static __CUDA_DEPRECATED __inline__ __host__ cudaErr\u001b[01;36m\u001b[Kor_t cudaBindTe\u001b[m\u001b[Kxture(\n",
            "                                                     \u001b[01;36m\u001b[K^~~~~~~~~~~~~~~\u001b[m\u001b[K\n",
            "/usr/local/cuda/bin/../targets/x86_64-linux/include/cuda_runtime.h: In instantiation of ‘\u001b[01m\u001b[KcudaError_t cudaBindTexture(size_t*, const texture<T, dim, readMode>&, const void*, size_t) [with T = float; int dim = 1; cudaTextureReadMode readMode = (cudaTextureReadMode)0; cudaError_t = cudaError; size_t = long unsigned int]\u001b[m\u001b[K’:\n",
            "\u001b[01m\u001b[KimageConvolutionTextureMemory.h:105:53:\u001b[m\u001b[K   required from here\n",
            "\u001b[01m\u001b[K/usr/local/cuda/bin/../targets/x86_64-linux/include/cuda_runtime.h:1346:23:\u001b[m\u001b[K \u001b[01;35m\u001b[Kwarning: \u001b[m\u001b[K‘\u001b[01m\u001b[KcudaError_t cudaBindTexture(size_t*, const texture<T, dim, readMode>&, const void*, const cudaChannelFormatDesc&, size_t) [with T = float; int dim = 1; cudaTextureReadMode readMode = (cudaTextureReadMode)0; cudaError_t = cudaError; size_t = long unsigned int]\u001b[m\u001b[K’ is deprecated [\u001b[01;35m\u001b[K-Wdeprecated-declarations\u001b[m\u001b[K]\n",
            "   retur\u001b[01;35m\u001b[Kn cudaBindTexture(offset, tex, devPtr, tex.channelDesc, size)\u001b[m\u001b[K;\n",
            "        \u001b[01;35m\u001b[K~~~~~~~~~~~~~~~^~~~~~~~~~~~~~~~~~~~~~~~~~~~~~~~~~~~~~~~~~~~~~\u001b[m\u001b[K\n",
            "\u001b[01m\u001b[K/usr/local/cuda/bin/../targets/x86_64-linux/include/cuda_runtime.h:1293:53:\u001b[m\u001b[K \u001b[01;36m\u001b[Knote: \u001b[m\u001b[Kdeclared here\n",
            " static __CUDA_DEPRECATED __inline__ __host__ cudaErr\u001b[01;36m\u001b[Kor_t cudaBindTe\u001b[m\u001b[Kxture(\n",
            "                                                     \u001b[01;36m\u001b[K^~~~~~~~~~~~~~~\u001b[m\u001b[K\n",
            "/usr/local/cuda/bin/../targets/x86_64-linux/include/cuda_runtime.h: In instantiation of ‘\u001b[01m\u001b[KcudaError_t cudaBindTexture(size_t*, const texture<T, dim, readMode>&, const void*, const cudaChannelFormatDesc&, size_t) [with T = float; int dim = 1; cudaTextureReadMode readMode = (cudaTextureReadMode)0; cudaError_t = cudaError; size_t = long unsigned int]\u001b[m\u001b[K’:\n",
            "\u001b[01m\u001b[K/usr/local/cuda/bin/../targets/x86_64-linux/include/cuda_runtime.h:1346:23:\u001b[m\u001b[K   required from ‘\u001b[01m\u001b[KcudaError_t cudaBindTexture(size_t*, const texture<T, dim, readMode>&, const void*, size_t) [with T = float; int dim = 1; cudaTextureReadMode readMode = (cudaTextureReadMode)0; cudaError_t = cudaError; size_t = long unsigned int]\u001b[m\u001b[K’\n",
            "\u001b[01m\u001b[KimageConvolutionTextureMemory.h:105:53:\u001b[m\u001b[K   required from here\n",
            "\u001b[01m\u001b[K/usr/local/cuda/bin/../targets/x86_64-linux/include/cuda_runtime.h:1301:25:\u001b[m\u001b[K \u001b[01;35m\u001b[Kwarning: \u001b[m\u001b[K‘\u001b[01m\u001b[KcudaError_t cudaBindTexture(size_t*, const textureReference*, const void*, const cudaChannelFormatDesc*, size_t)\u001b[m\u001b[K’ is deprecated [\u001b[01;35m\u001b[K-Wdeprecated-declarations\u001b[m\u001b[K]\n",
            "   retur\u001b[01;35m\u001b[Kn ::cudaBindTexture(offset, &tex, devPtr, &desc, siz\u001b[m\u001b[Ke);\n",
            "        \u001b[01;35m\u001b[K~~~~~~~~~~~~~~~~~^~~~~~~~~~~~~~~~~~~~~~~~~~~~~~~~~~~\u001b[m\u001b[K\n",
            "\u001b[01m\u001b[K/usr/local/cuda/bin/../targets/x86_64-linux/include/cuda_runtime_api.h:7897:46:\u001b[m\u001b[K \u001b[01;36m\u001b[Knote: \u001b[m\u001b[Kdeclared here\n",
            " extern __CUDA_DEPRECATED __host__ cudaError_t\u001b[01;36m\u001b[K CUDARTAPI cuda\u001b[m\u001b[KBindTexture(size_t *offset, const struct textureReference *texref, const void *devPtr, const struct cudaChannelFormatDesc *desc, size_t size __dv(UINT_MAX));\n",
            "                                              \u001b[01;36m\u001b[K^~~~~~~~~~~~~~~\u001b[m\u001b[K\n"
          ]
        }
      ]
    }
  ]
}